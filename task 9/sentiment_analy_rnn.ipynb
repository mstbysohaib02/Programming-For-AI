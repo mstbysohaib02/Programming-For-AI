{
 "cells": [
  {
   "cell_type": "code",
   "execution_count": 2,
   "id": "4b6c57c1",
   "metadata": {},
   "outputs": [],
   "source": [
    "# Task 09\n",
    "# NLP \n",
    "# Sentiment Analysis with RNN"
   ]
  },
  {
   "cell_type": "code",
   "execution_count": 3,
   "id": "a0d4c211",
   "metadata": {},
   "outputs": [],
   "source": [
    "import pandas as pd\n",
    "import numpy as np\n",
    "import re  \n",
    "from sklearn.model_selection import train_test_split\n",
    "from tensorflow.keras.preprocessing.text import Tokenizer\n",
    "from tensorflow.keras.preprocessing.sequence import pad_sequences\n",
    "from tensorflow.keras.models import Sequential\n",
    "from tensorflow.keras.layers import SimpleRNN, Dense, Embedding\n"
   ]
  },
  {
   "cell_type": "code",
   "execution_count": 4,
   "id": "43ac8428",
   "metadata": {},
   "outputs": [
    {
     "name": "stdout",
     "output_type": "stream",
     "text": [
      "Columns in the dataset:\n",
      "['ID', 'Area', 'City', 'Restaurant Price', 'Avg Rating', 'Total Rating', 'Food Item', 'Food Type', 'Delivery Time', 'Review']\n"
     ]
    }
   ],
   "source": [
    "# load the dataset\n",
    "data = pd.read_csv('swiggy.csv')\n",
    "print(\"Columns in the dataset:\")\n",
    "print(data.columns.tolist())\n"
   ]
  },
  {
   "cell_type": "code",
   "execution_count": 5,
   "id": "9ce20fa1",
   "metadata": {},
   "outputs": [],
   "source": [
    "# Text Cleaning and Sentiment Labeling\n",
    "data[\"Review\"] = data[\"Review\"].str.lower()\n",
    "data[\"Review\"] = data[\"Review\"].replace(r'[^a-z0-9\\s]', '', regex=True)\n",
    "\n",
    "data['sentiment'] = data['Avg Rating'].apply(lambda x: 1 if x > 3.5 else 0)\n",
    "data = data.dropna() \n"
   ]
  },
  {
   "cell_type": "code",
   "execution_count": 6,
   "id": "948faa20",
   "metadata": {},
   "outputs": [],
   "source": [
    "# Tokenization and Padding\n",
    "max_features = 5000  \n",
    "max_length = 200    \n",
    "\n",
    "tokenizer = Tokenizer(num_words=max_features)\n",
    "tokenizer.fit_on_texts(data[\"Review\"])\n",
    "X = pad_sequences(tokenizer.texts_to_sequences(data[\"Review\"]), maxlen=max_length)\n",
    "y = data['sentiment'].values  \n"
   ]
  },
  {
   "cell_type": "code",
   "execution_count": 7,
   "id": "5fd20428",
   "metadata": {},
   "outputs": [],
   "source": [
    "# Data Splitting\n",
    "X_train, X_test, y_train, y_test = train_test_split(X, y, test_size=0.2, random_state=42, stratify=y)\n",
    "X_train, X_val, y_train, y_val = train_test_split(X_train, y_train, test_size=0.1, random_state=42, stratify=y_train)\n"
   ]
  },
  {
   "cell_type": "code",
   "execution_count": 8,
   "id": "0185642e",
   "metadata": {},
   "outputs": [
    {
     "name": "stderr",
     "output_type": "stream",
     "text": [
      "C:\\Users\\Muhammad Haseeb\\AppData\\Roaming\\Python\\Python312\\site-packages\\keras\\src\\layers\\core\\embedding.py:90: UserWarning: Argument `input_length` is deprecated. Just remove it.\n",
      "  warnings.warn(\n"
     ]
    }
   ],
   "source": [
    "# Build RNN Model\n",
    "model = Sequential([\n",
    "    Embedding(input_dim=max_features, output_dim=16, input_length=max_length),\n",
    "    SimpleRNN(64, activation='tanh', return_sequences=False),                   \n",
    "    Dense(1, activation='sigmoid')                                          \n",
    "])\n",
    "\n",
    "model.compile(\n",
    "    loss='binary_crossentropy',\n",
    "    optimizer='adam',\n",
    "    metrics=['accuracy']\n",
    ")\n"
   ]
  },
  {
   "cell_type": "code",
   "execution_count": 9,
   "id": "a4457380",
   "metadata": {},
   "outputs": [
    {
     "name": "stdout",
     "output_type": "stream",
     "text": [
      "Epoch 1/5\n",
      "\u001b[1m180/180\u001b[0m \u001b[32m━━━━━━━━━━━━━━━━━━━━\u001b[0m\u001b[37m\u001b[0m \u001b[1m14s\u001b[0m 53ms/step - accuracy: 0.7076 - loss: 0.6032 - val_accuracy: 0.7156 - val_loss: 0.5977\n",
      "Epoch 2/5\n",
      "\u001b[1m180/180\u001b[0m \u001b[32m━━━━━━━━━━━━━━━━━━━━\u001b[0m\u001b[37m\u001b[0m \u001b[1m7s\u001b[0m 40ms/step - accuracy: 0.7132 - loss: 0.6013 - val_accuracy: 0.7156 - val_loss: 0.5986\n",
      "Epoch 3/5\n",
      "\u001b[1m180/180\u001b[0m \u001b[32m━━━━━━━━━━━━━━━━━━━━\u001b[0m\u001b[37m\u001b[0m \u001b[1m7s\u001b[0m 39ms/step - accuracy: 0.7251 - loss: 0.5907 - val_accuracy: 0.7156 - val_loss: 0.5968\n",
      "Epoch 4/5\n",
      "\u001b[1m180/180\u001b[0m \u001b[32m━━━━━━━━━━━━━━━━━━━━\u001b[0m\u001b[37m\u001b[0m \u001b[1m7s\u001b[0m 39ms/step - accuracy: 0.7076 - loss: 0.6030 - val_accuracy: 0.7156 - val_loss: 0.5964\n",
      "Epoch 5/5\n",
      "\u001b[1m180/180\u001b[0m \u001b[32m━━━━━━━━━━━━━━━━━━━━\u001b[0m\u001b[37m\u001b[0m \u001b[1m7s\u001b[0m 38ms/step - accuracy: 0.7228 - loss: 0.5908 - val_accuracy: 0.7156 - val_loss: 0.6002\n",
      "Test accuracy: 0.72\n"
     ]
    }
   ],
   "source": [
    "# Train & Evaluate Model\n",
    "history = model.fit(\n",
    "    X_train, y_train,\n",
    "    epochs=5,\n",
    "    batch_size=32,\n",
    "    validation_data=(X_val, y_val),\n",
    "    verbose=1\n",
    ")\n",
    "\n",
    "score = model.evaluate(X_test, y_test, verbose=0)\n",
    "print(f\"Test accuracy: {score[1]:.2f}\")\n"
   ]
  },
  {
   "cell_type": "code",
   "execution_count": 15,
   "id": "c760021f",
   "metadata": {},
   "outputs": [
    {
     "name": "stdout",
     "output_type": "stream",
     "text": [
      "Review: Worst food I’ve ever had. Totally disappointed.\n",
      "\u001b[1m1/1\u001b[0m \u001b[32m━━━━━━━━━━━━━━━━━━━━\u001b[0m\u001b[37m\u001b[0m \u001b[1m0s\u001b[0m 82ms/step\n",
      "Sentiment: Positive (Probability: 0.77)\n"
     ]
    }
   ],
   "source": [
    "# Predicting Sentiment\n",
    "def predict_sentiment(review_text):\n",
    "    text = review_text.lower()\n",
    "    text = re.sub(r'[^a-z0-9\\s]', '', text)\n",
    "    \n",
    "    seq = tokenizer.texts_to_sequences([text])\n",
    "    padded = pad_sequences(seq, maxlen=max_length)\n",
    "\n",
    "    prediction = model.predict(padded)[0][0]\n",
    "    return f\"{'Positive' if prediction >= 0.5 else 'Negative'} (Probability: {prediction:.2f})\"\n",
    "    \n",
    "sample_review = \"Worst food I’ve ever had. Totally disappointed.\"\n",
    "print(f\"Review: {sample_review}\")\n",
    "print(f\"Sentiment: {predict_sentiment(sample_review)}\")\n"
   ]
  },
  {
   "cell_type": "code",
   "execution_count": 11,
   "id": "19d8a6ad",
   "metadata": {},
   "outputs": [
    {
     "name": "stderr",
     "output_type": "stream",
     "text": [
      "WARNING:absl:You are saving your model as an HDF5 file via `model.save()` or `keras.saving.save_model(model)`. This file format is considered legacy. We recommend using instead the native Keras format, e.g. `model.save('my_model.keras')` or `keras.saving.save_model(model, 'my_model.keras')`. \n"
     ]
    }
   ],
   "source": [
    "model.save('sentiment_model.h5')\n"
   ]
  },
  {
   "cell_type": "code",
   "execution_count": 12,
   "id": "2a192bea",
   "metadata": {},
   "outputs": [],
   "source": [
    "import pickle\n",
    "with open('tokenizer.pkl', 'wb') as f:\n",
    "    pickle.dump(tokenizer, f)\n"
   ]
  }
 ],
 "metadata": {
  "kernelspec": {
   "display_name": "Python 3",
   "language": "python",
   "name": "python3"
  },
  "language_info": {
   "codemirror_mode": {
    "name": "ipython",
    "version": 3
   },
   "file_extension": ".py",
   "mimetype": "text/x-python",
   "name": "python",
   "nbconvert_exporter": "python",
   "pygments_lexer": "ipython3",
   "version": "3.12.9"
  }
 },
 "nbformat": 4,
 "nbformat_minor": 5
}
